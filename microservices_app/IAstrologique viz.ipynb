{
 "cells": [
  {
   "cell_type": "raw",
   "id": "a355a97d-393d-42e6-a401-9ea7ade22416",
   "metadata": {},
   "source": [
    "title: IAstrologique modeling\n",
    "author: Vincent Villet\n",
    "date: \"{{ datetime.now().strftime('%Y-%m-%d') }}\""
   ]
  },
  {
   "cell_type": "code",
   "execution_count": 1,
   "id": "6dddbc69-a7de-4c96-9c54-900f6245dd63",
   "metadata": {
    "scrolled": true
   },
   "outputs": [
    {
     "ename": "ModuleNotFoundError",
     "evalue": "No module named 'footprint_model'",
     "output_type": "error",
     "traceback": [
      "\u001b[0;31m---------------------------------------------------------------------------\u001b[0m",
      "\u001b[0;31mModuleNotFoundError\u001b[0m                       Traceback (most recent call last)",
      "Cell \u001b[0;32mIn[1], line 6\u001b[0m\n\u001b[1;32m      2\u001b[0m \u001b[38;5;28;01mimport\u001b[39;00m \u001b[38;5;21;01mos\u001b[39;00m\n\u001b[1;32m      4\u001b[0m sys\u001b[38;5;241m.\u001b[39mpath\u001b[38;5;241m.\u001b[39mappend(os\u001b[38;5;241m.\u001b[39mpath\u001b[38;5;241m.\u001b[39mjoin(\u001b[38;5;124m\"\u001b[39m\u001b[38;5;124m..\u001b[39m\u001b[38;5;124m\"\u001b[39m, \u001b[38;5;124m\"\u001b[39m\u001b[38;5;124m..\u001b[39m\u001b[38;5;124m\"\u001b[39m))\n\u001b[0;32m----> 6\u001b[0m \u001b[38;5;28;01mfrom\u001b[39;00m \u001b[38;5;21;01mfootprint_model\u001b[39;00m\u001b[38;5;21;01m.\u001b[39;00m\u001b[38;5;21;01mconstants\u001b[39;00m\u001b[38;5;21;01m.\u001b[39;00m\u001b[38;5;21;01munits\u001b[39;00m \u001b[38;5;28;01mimport\u001b[39;00m u\n\u001b[1;32m      7\u001b[0m \u001b[38;5;28;01mfrom\u001b[39;00m \u001b[38;5;21;01mfootprint_model\u001b[39;00m\u001b[38;5;21;01m.\u001b[39;00m\u001b[38;5;21;01mconstants\u001b[39;00m\u001b[38;5;21;01m.\u001b[39;00m\u001b[38;5;21;01mexplainable_quantities\u001b[39;00m \u001b[38;5;28;01mimport\u001b[39;00m ExplainableQuantity\n\u001b[1;32m      8\u001b[0m \u001b[38;5;28;01mfrom\u001b[39;00m \u001b[38;5;21;01mfootprint_model\u001b[39;00m\u001b[38;5;21;01m.\u001b[39;00m\u001b[38;5;21;01mutils\u001b[39;00m\u001b[38;5;21;01m.\u001b[39;00m\u001b[38;5;21;01mgraph_representation\u001b[39;00m \u001b[38;5;28;01mimport\u001b[39;00m (\n\u001b[1;32m      9\u001b[0m     build_graph, SERVICES_VIEW_CLASSES_TO_IGNORE, USAGE_PATTERN_VIEW_CLASSES_TO_IGNORE,\n\u001b[1;32m     10\u001b[0m     SERVICES_AND_INFRA_VIEW_CLASSES_TO_IGNORE, save_graph_as_both_html_and_png)\n",
      "\u001b[0;31mModuleNotFoundError\u001b[0m: No module named 'footprint_model'"
     ]
    }
   ],
   "source": [
    "import sys\n",
    "import os\n",
    "\n",
    "sys.path.append(os.path.join(\"..\", \"..\"))\n",
    "\n",
    "from footprint_model.constants.units import u\n",
    "from footprint_model.constants.explainable_quantities import ExplainableQuantity\n",
    "from footprint_model.utils.graph_representation import (\n",
    "    build_graph, SERVICES_VIEW_CLASSES_TO_IGNORE, USAGE_PATTERN_VIEW_CLASSES_TO_IGNORE,\n",
    "    SERVICES_AND_INFRA_VIEW_CLASSES_TO_IGNORE, save_graph_as_both_html_and_png)\n",
    "from use_cases.multiservice_app_carbon_case.iastrologique_usage import iastrologique_yearly_modeling, USE_CASE_PATH, PLOTS_PATH\n",
    "from use_cases.multiservice_app_carbon_case.utils_iastrologique import plot_from_system\n",
    "\n",
    "import pandas as pd\n",
    "import matplotlib\n",
    "import matplotlib.pyplot as plt\n",
    "import logging"
   ]
  },
  {
   "cell_type": "code",
   "execution_count": null,
   "id": "6c081bbc-e004-43c9-bea3-e11add5d404b",
   "metadata": {},
   "outputs": [],
   "source": [
    "logging.getLogger().setLevel(logging.CRITICAL)\n",
    "\n",
    "emissions_dict = {}\n",
    "iastrologique_systems = {}\n",
    "yearly_usage_df = pd.read_csv(os.path.join(USE_CASE_PATH, \"yearly_nb_of_users.csv\"))\n",
    "for i in range(len(yearly_usage_df)):\n",
    "    year = yearly_usage_df[\"year\"].iloc[i]\n",
    "    nb_paid_users_that_year = yearly_usage_df[\"nb_paid_users\"].iloc[i]\n",
    "    nb_free_users_that_year = yearly_usage_df[\"nb_free_users\"].iloc[i]\n",
    "\n",
    "    if i > 0:\n",
    "        iastrologique_system = iastrologique_yearly_modeling(nb_paid_users_that_year, nb_free_users_that_year, iastrologique_systems[year - 1])\n",
    "    else:\n",
    "        iastrologique_system = iastrologique_yearly_modeling(nb_paid_users_that_year, nb_free_users_that_year)\n",
    "\n",
    "    iastrologique_systems[year] = iastrologique_system\n",
    "\n",
    "    emissions_dict[year] = [iastrologique_system.energy_footprints(), iastrologique_system.fabrication_footprints()]\n",
    "\n",
    "\n",
    "total_emissions = []\n",
    "\n",
    "def calculate_total_emissions(input_dicts, timespan):\n",
    "    total_emissions_in_tons = 0\n",
    "    for input_dict in input_dicts:\n",
    "        total_emissions_in_tons += (sum(input_dict.values()) * timespan).to(u.ton).magnitude\n",
    "        \n",
    "    return total_emissions_in_tons\n",
    "\n",
    "for year in range(2024, 2031):\n",
    "    total_emissions.append(calculate_total_emissions(emissions_dict[year], ExplainableQuantity(1 * u.year, \"one year\")))"
   ]
  },
  {
   "cell_type": "code",
   "execution_count": null,
   "id": "7002ef85-7df6-4173-955e-31a0ffcf6496",
   "metadata": {},
   "outputs": [],
   "source": [
    "%%capture\n",
    "\n",
    "iastrologique_system_2024 = iastrologique_systems[2024]\n",
    "G = build_graph(iastrologique_system_2024, classes_to_ignore=SERVICES_VIEW_CLASSES_TO_IGNORE)\n",
    "save_graph_as_both_html_and_png(G, os.path.join(PLOTS_PATH, \"services_view.html\"), 1100, 900)"
   ]
  },
  {
   "cell_type": "markdown",
   "id": "fff288ed-406b-4ae3-8686-22ca91a7138c",
   "metadata": {},
   "source": [
    "# Modeling overview\n",
    "\n",
    "## Perimeter\n",
    "The perimeter of the modeling is the widest possible, including servers, storage, the network and devices at their fabrication and usage phases. Are excluded:\n",
    "- the fabrication of the network, which is supposed to be negligeable because heavily shared,\n",
    "- the hardware end of life and transportation, which are supposed to emit very little CO2 compared to the other phases.\n",
    "\n",
    "The focus is exclusively on CO2 even though it is not the only source of environmental impact for digital services, because it is the indicator that is the most mature and covers every life cycle phase. Future upgrades of Publicis Sapient’s model will take other environmental impacts (like rare earth metals or water) into account.\n",
    "\n",
    "## Functional point of view\n",
    "The following image represents iastrologique’s modeling from a functional point of view. In green are user journeys, made of user journey steps in orange. The services used by each user journey step are in blue."
   ]
  },
  {
   "cell_type": "code",
   "execution_count": null,
   "id": "8a7fc3ab-48cd-4280-81b7-264395f33de4",
   "metadata": {},
   "outputs": [],
   "source": [
    "from IPython.display import Image, display\n",
    "display(Image(os.path.join(PLOTS_PATH, \"services_view.png\"), width=1100, height=900))"
   ]
  },
  {
   "cell_type": "markdown",
   "id": "9d9e4695-ac81-4698-a6ba-55065a2abe45",
   "metadata": {},
   "source": [
    "### User journey descriptions\n",
    "\n",
    "Here are high-level descriptions of the user journeys modeled:"
   ]
  },
  {
   "cell_type": "code",
   "execution_count": null,
   "id": "78a324ba-59cd-47ed-9137-76ae84661dfb",
   "metadata": {},
   "outputs": [],
   "source": [
    "from IPython.display import Markdown as md\n",
    "\n",
    "string_to_display = \"\"\n",
    "for usage_pattern in iastrologique_systems[2024].usage_patterns:\n",
    "    uj = usage_pattern.user_journey\n",
    "    string_to_display += f\"\\n{uj.name}:\\n  - {round(uj.data_download.value, 1)} downloaded,\\n  - {round(uj.data_upload.value)} uploaded,\\n\\\n",
    "  - {round(usage_pattern.user_journey_freq.value, 1)}\\n\"\n",
    "\n",
    "md(string_to_display)"
   ]
  },
  {
   "cell_type": "code",
   "execution_count": null,
   "id": "e5e0f2f3-4a88-4cde-8bb4-03ab9df89fbb",
   "metadata": {},
   "outputs": [],
   "source": [
    "%%capture\n",
    "\n",
    "G = build_graph(iastrologique_system_2024, classes_to_ignore=SERVICES_AND_INFRA_VIEW_CLASSES_TO_IGNORE)\n",
    "save_graph_as_both_html_and_png(G, os.path.join(PLOTS_PATH, \"services_and_infra_view.html\"), 1100, 900)"
   ]
  },
  {
   "cell_type": "markdown",
   "id": "053bb3a2-62c0-44ce-892d-296ad87360ac",
   "metadata": {},
   "source": [
    "## Infrastructure point of view\n",
    "\n",
    "The following image represents the relationship between the physical infrastructure (servers in red, storage in burgundy) and the services. Most services have their own infrastructure but we can see notably that the MongoDB storage is shared by several services."
   ]
  },
  {
   "cell_type": "code",
   "execution_count": null,
   "id": "4497aa06-ae9a-4ccb-a56a-596569ada9f5",
   "metadata": {},
   "outputs": [],
   "source": [
    "display(Image(os.path.join(PLOTS_PATH, \"services_and_infra_view.png\"), width=1100, height=900))"
   ]
  },
  {
   "cell_type": "markdown",
   "id": "a81abdb2-1d8a-4865-8c3c-5d2a8ad31ae7",
   "metadata": {},
   "source": [
    "## Main hypotheses\n",
    "\n",
    "- For each user journey, the usage pattern is supposed to be a stable usage on chosen hours for a typical day. For example, the IAstrologique usage is supposed to be the same from 10am till 23pm with an homogeneous repartition of the number of visits, and no visits outside of that time range.\n",
    "- All uploaded data is stored forever.\n",
    "- Fabrication emissions are attributed based on the ratio of the time spent by the hardware on the service over its overall lifespan.\n",
    "- No hardware improvement factors have been taken into account for future years to get a conservative estimate."
   ]
  },
  {
   "cell_type": "markdown",
   "id": "ae993723-3096-45a9-a47e-ff0010b04d58",
   "metadata": {},
   "source": [
    "# High level analysis\n",
    "\n",
    "Let’s have a look at the amount of CO2 emitted by the system from 2024 to 2030"
   ]
  },
  {
   "cell_type": "code",
   "execution_count": null,
   "id": "525ba690-3c0b-4eaa-8e77-4c59fe80f7e1",
   "metadata": {},
   "outputs": [],
   "source": [
    "years = [i for i in range(2024, 2031)]\n",
    "\n",
    "matplotlib.rcParams['figure.figsize'] = [12, 4]\n",
    "\n",
    "plt.plot(years, [emissions for emissions in total_emissions])\n",
    "plt.ylabel(\"tons of CO2 emitted / year\")\n",
    "plt.title(\"Total CO2 emissions per year, 2024 to 2030\")\n",
    "plt.show()"
   ]
  },
  {
   "cell_type": "code",
   "execution_count": null,
   "id": "4c6781c9-7966-4566-b5a9-7a12e8302540",
   "metadata": {},
   "outputs": [],
   "source": [
    "md(f\"The order of magnitude of the total emissions of the system from 2024 to 2030 is about {int(sum(total_emissions)/100)*100} tons CO2eq.\")"
   ]
  },
  {
   "cell_type": "code",
   "execution_count": null,
   "id": "640de508-3f26-4419-b15f-3262487f371d",
   "metadata": {},
   "outputs": [],
   "source": [
    "fig, ax1 = plt.subplots()\n",
    "\n",
    "ax1.plot(years, [emissions for emissions in total_emissions], 'b-', label='emissions')\n",
    "ax1.set_xlabel('X Axis')\n",
    "ax1.set_ylabel('CO2 eq emissions in tons / year', color='b')\n",
    "ax1.tick_params(axis='y', labelcolor='b')\n",
    "ax1.legend(loc='upper left')\n",
    "\n",
    "ax2 = ax1.twinx()\n",
    "\n",
    "ax2.plot(years, yearly_usage_df[\"nb_paid_users\"] + yearly_usage_df[\"nb_free_users\"], 'r+', label='nb users')\n",
    "ax2.set_ylabel('number of users', color='r')\n",
    "ax2.tick_params(axis='y', labelcolor='r')\n",
    "ax2.legend(loc='upper right')\n",
    "\n",
    "plt.title('Correlation between CO2 emissions and number of users')\n",
    "plt.show()"
   ]
  },
  {
   "cell_type": "markdown",
   "id": "a3414359-f969-48fd-8584-1e5cf90cc1e3",
   "metadata": {},
   "source": [
    "Emissions are almost proportional to the number of users."
   ]
  },
  {
   "cell_type": "markdown",
   "id": "d1b4fbee-5a50-4d80-b791-72d697ed50e4",
   "metadata": {},
   "source": [
    "# Emissions distribution\n",
    "## Servers\n",
    "\n",
    "Let’s look at the emissions distribution in 2024:"
   ]
  },
  {
   "cell_type": "code",
   "execution_count": null,
   "id": "6bce306a-8ad2-4460-bc0c-3c14d986925f",
   "metadata": {},
   "outputs": [],
   "source": [
    "year = 2024\n",
    "plot_from_system(\n",
    "            emissions_dict[year], emissions_dict[year], \"IAstrologique 2024 modeling\", os.path.join(PLOTS_PATH, f\"iastrologique_{year}.png\"), (10, 5))"
   ]
  },
  {
   "cell_type": "markdown",
   "id": "cc081b63-1b9e-4afa-882b-2d52eb4547ee",
   "metadata": {},
   "source": [
    "And in 2030:"
   ]
  },
  {
   "cell_type": "code",
   "execution_count": null,
   "id": "b26fa9f3-5787-4cf3-9f15-db73c0597d20",
   "metadata": {},
   "outputs": [],
   "source": [
    "year = 2030\n",
    "plot_from_system(\n",
    "            emissions_dict[year], emissions_dict[year], \"IAstrologique 2030 modeling\", os.path.join(PLOTS_PATH, f\"iastrologique_{year}.png\"), (10, 5))"
   ]
  },
  {
   "cell_type": "markdown",
   "id": "f90ee717-f59b-4c8e-8c96-3866518ffee4",
   "metadata": {},
   "source": [
    "Device fabrication is the largest CO2 emissions driver, however it is important to keep in mind that this modeling attributes hardware fabrication based on the time spent on the service. Given that the IAstrologique service won’t be a mainstream social or leisure app it is quite unlikely that it would push its users to buy a new device, so conventional performance best practices should be enough in terms of ecodesign. What’s more interesting is that the devices power is second in terms of emissions. That calls for paying attention to the computing load on the device’s side: if it gets heavier than the typical web app it might become interesting to monitor it more closely with tools like [Greenframe](https://greenframe.io/).\n",
    "\n",
    "We see that the share of devices increases with usage, as does the storage requirements, but not the server shares. That suggests that servers are underused at low usage rates. Let’s look at the iastrologique server for example:"
   ]
  },
  {
   "cell_type": "code",
   "execution_count": null,
   "id": "00890cca-2069-4b3c-b7ab-e216d19fd219",
   "metadata": {},
   "outputs": [],
   "source": [
    "iastrologique_server_2024 = iastrologique_systems[2024].get_server_by_name(\"iastrologique app server\")\n",
    "iastrologique_server_2030 = iastrologique_systems[2030].get_server_by_name(\"iastrologique app server\")\n",
    "\n",
    "md(f\"Average number of instances of iastrologique app server in 2024: {round(iastrologique_server_2024.nb_of_instances.magnitude, 2)}  \\n\\\n",
    "Average number of instances of iastrologique app server in 2030: {round(iastrologique_server_2030.nb_of_instances.magnitude, 2)}\")"
   ]
  },
  {
   "cell_type": "markdown",
   "id": "2d6fbdc9-a109-46a2-bb88-5ea671b2d1c4",
   "metadata": {},
   "source": [
    "Let’s look at this server’s RAM need in 2024 and 2030. The RAM need is expressed hour by hour for a typical day."
   ]
  },
  {
   "cell_type": "code",
   "execution_count": null,
   "id": "9cca9449-15fd-4b4b-9404-46ce7baea9b0",
   "metadata": {},
   "outputs": [],
   "source": [
    "plt.scatter([i for i in range(24)], [elt.value.to(u.Mo).magnitude for elt in iastrologique_server_2024.all_services_ram_needs.value], marker=\"o\", label=\"iastrologique 2024\")\n",
    "plt.scatter([i for i in range(24)], [elt.value.to(u.Mo).magnitude for elt in iastrologique_server_2030.all_services_ram_needs.value], marker=\"+\", label=\"iastrologique 2030\")\n",
    "plt.ylabel(\"RAM need in Mo\")\n",
    "plt.xlabel(\"Hour of day\")\n",
    "plt.title(\"Average RAM need throughout a typical day for iastrologique servers in 2024 and 2030\")\n",
    "plt.legend()\n",
    "plt.show()"
   ]
  },
  {
   "cell_type": "markdown",
   "id": "72b2c9d7-9030-4cf6-8694-8df479661a1d",
   "metadata": {},
   "source": [
    "As iastrologique server example shows, the needs are very little even in 2030 (less than 100 Mo of RAM need at any time). In fact,"
   ]
  },
  {
   "cell_type": "code",
   "execution_count": null,
   "id": "fcf80955-935f-4825-9cff-3d4fc00032ff",
   "metadata": {},
   "outputs": [],
   "source": [
    "string_to_display = \"\"\n",
    "for usage_pattern in iastrologique_server_2030.usage_patterns:\n",
    "    string_to_display += (f\"{usage_pattern.name} in 2030: {usage_pattern.nb_user_journeys_in_parallel_during_usage.magnitude} user journeys in parallel during usage  \\n\")\n",
    "\n",
    "md(string_to_display)"
   ]
  },
  {
   "cell_type": "code",
   "execution_count": null,
   "id": "e23a88ce-bb61-49d6-a1d1-1a5b6e2ed4a2",
   "metadata": {},
   "outputs": [],
   "source": [
    "string_to_display = \"\"\n",
    "for usage_pattern in iastrologique_server_2024.usage_patterns:\n",
    "    string_to_display += f\"{usage_pattern.name} in 2024: {usage_pattern.nb_user_journeys_in_parallel_during_usage.magnitude} user journeys in parallel during usage  \\n\"\n",
    "\n",
    "md(string_to_display)"
   ]
  },
  {
   "cell_type": "markdown",
   "id": "199cf0df-977c-48a8-b305-e38e348aadd2",
   "metadata": {},
   "source": [
    "... even though the usage has been multiplied by almost 6 from 2024 to 2030 there are still little users in parallel (keeping in mind that the modeling hypothesis is that usage is homogeneous during usage hours so there will be higher spikes in reality). That calls for using smaller machines because even if the modeling underestimates peak load the RAM needs are way under the server capacity of 256 Gb + there is always the possibility of autoscaling if one small server is not enough."
   ]
  },
  {
   "cell_type": "markdown",
   "id": "baa9516f-7774-49df-9dfe-0acb7a81f8f6",
   "metadata": {},
   "source": [
    "## Storage\n",
    "\n",
    "Where do the storage fabrication emissions come from ?"
   ]
  },
  {
   "cell_type": "code",
   "execution_count": null,
   "id": "e1af00b4-0ce9-44cd-89a1-c5a7f2dc6fb4",
   "metadata": {},
   "outputs": [],
   "source": [
    "plt.bar([storage.name for storage in iastrologique_systems[2024].storages],\n",
    "       [storage.instances_fabrication_footprint.to(u.kg / u.year).magnitude for storage in iastrologique_systems[2024].storages])\n",
    "plt.xticks(rotation=45)\n",
    "plt.ylabel(\"Annual CO2eq emissions in kg\")\n",
    "plt.show()"
   ]
  },
  {
   "cell_type": "code",
   "execution_count": null,
   "id": "90f3e140-32c6-47a2-9858-07e0a5c93dde",
   "metadata": {
    "lines_to_next_cell": 0
   },
   "outputs": [],
   "source": [
    "mongodb_storage_2024 = iastrologique_systems[2024].get_storage_by_name(\"MongoDB storage\").long_term_storage_required.value\n",
    "mongodb_storage_2030 = iastrologique_systems[2030].get_storage_by_name(\"MongoDB storage\").long_term_storage_required.value\n",
    "\n",
    "md(f\"They come from MongoDB by a large margin. In fact in 2024 alone its storage requirements are {round(mongodb_storage_2024, 0)}\\\n",
    " and they grow to {round(mongodb_storage_2030, 0)} by 2030 !\")"
   ]
  },
  {
   "cell_type": "markdown",
   "id": "8d9fb32b-9809-49ac-ac39-ae15b53b9f8f",
   "metadata": {},
   "source": [
    "What user journeys make up for that storage need ?"
   ]
  },
  {
   "cell_type": "code",
   "execution_count": null,
   "id": "f4c0f39b-8a8f-48fb-938e-6ac563073285",
   "metadata": {},
   "outputs": [],
   "source": [
    "mongodb_storage_2024 = iastrologique_systems[2024].get_storage_by_name(\"MongoDB storage\")\n",
    "\n",
    "string_to_display = \"\"\n",
    "for usage_pattern in mongodb_storage_2024.usage_patterns:\n",
    "    uj = usage_pattern.user_journey\n",
    "    string_to_display += f\"\\n{uj.name}:\\n  - {round(uj.data_upload.value, 1)} uploaded to services\\\n",
    " {' and '.join([service.name for service in list(uj.services) if service in mongodb_storage_2024.services])},\\n\\\n",
    "  - {round(usage_pattern.user_journey_freq.value, 1)}\\n\"\n",
    "\n",
    "md(string_to_display)"
   ]
  },
  {
   "cell_type": "markdown",
   "id": "02165f4e-630c-43b7-9706-2256d1fe5137",
   "metadata": {},
   "source": [
    "The vast majority of storage required comes from the main IAstrologique user journey. Let’s have a look at its user journey steps that upload data:"
   ]
  },
  {
   "cell_type": "code",
   "execution_count": null,
   "id": "b5aabb93-2603-48b2-95a6-54bb43341f6e",
   "metadata": {},
   "outputs": [],
   "source": [
    "iastrologique_up_2024 = iastrologique_systems[2024].get_usage_pattern_by_name(\"IAstrologique usage in France on laptop\")\n",
    "\n",
    "string_to_display = \"\"\n",
    "\n",
    "for uj_step in iastrologique_up_2024.user_journey.uj_steps:\n",
    "    if uj_step.data_upload.value > 0 * u.Mo / u.user_journey:\n",
    "        string_to_display += f\"{uj_step.name}: {uj_step.data_upload.value} to {uj_step.service.name}  \\n\"\n",
    "\n",
    "md(string_to_display)"
   ]
  },
  {
   "cell_type": "markdown",
   "id": "e02ced61-987f-46b1-803d-8392d3b31c14",
   "metadata": {},
   "source": [
    "It is the Tracking metrics step that uploads the most data. The hypothesis might have to be refined but it is probably the main driver of storage need."
   ]
  },
  {
   "cell_type": "markdown",
   "id": "8568b3b9-c344-4aff-8c73-5eb6a8c7a245",
   "metadata": {
    "jp-MarkdownHeadingCollapsed": true
   },
   "source": [
    "# Conclusion and ecodesign advice\n",
    "\n",
    "The overall footprint is not very large: at 100€ / ton CO2eq (a good starting point for an internal carbon price), 100 tons CO2eq over the course of 6 years is less than 2000€ / year. However, there are a few points to keep in mind that can easily spare up to a dozen tons CO2 eq by 2030, which is more than the average yearly French citizen emissions of 10 tons CO2eq:\n",
    "\n",
    "- Put in place a tracking data management policy that deletes or aggregates data after a given lifespan. This could easily divide by 2 the long term storage need and save 3 tons CO2 eq / year by 2030.\n",
    "- Monitor device computing load if the app requirements exceed that of a typical web app (maybe a few tons of CO2eq per year to save at high usage rates with simple optimizations).\n",
    "- Use smaller servers, especially during the first few years (probably a few hundreds of tons of CO2eq per year to save without development effort)."
   ]
  }
 ],
 "metadata": {
  "kernelspec": {
   "display_name": "e-footprint-modelings",
   "language": "python",
   "name": "e-footprint-modelings"
  },
  "language_info": {
   "codemirror_mode": {
    "name": "ipython",
    "version": 3
   },
   "file_extension": ".py",
   "mimetype": "text/x-python",
   "name": "python",
   "nbconvert_exporter": "python",
   "pygments_lexer": "ipython3",
   "version": "3.12.7"
  }
 },
 "nbformat": 4,
 "nbformat_minor": 5
}
